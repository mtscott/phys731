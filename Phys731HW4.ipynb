{
 "cells": [
  {
   "cell_type": "markdown",
   "id": "946af755-56c6-4f6e-94de-e8ffb11e5dd4",
   "metadata": {},
   "source": [
    "##### Mitchell Scott (mtscot4)\n",
    "##### Phys 731R: Random Matrix Theory\n",
    "##### Prof. Ilya Nemenman\n",
    "##### Spring 2024"
   ]
  },
  {
   "cell_type": "markdown",
   "id": "8476e1f2-c585-47eb-a69a-6e889d136e18",
   "metadata": {},
   "source": [
    "# Homework 4"
   ]
  },
  {
   "cell_type": "markdown",
   "id": "b80febc4-55fd-431a-9543-452976518f6f",
   "metadata": {},
   "source": [
    "## 1.\n",
    "#### Double descent in Principal Components Regression. As promised, we will work on understanding overfitting in linear regression, following [this work](https://journals.aps.org/pre/pdf/10.1103/PhysRevE.106.025304?casa_token=7vVLwCzQ9FgAAAAA%3AgIr7tq9gtu646SpsLOtU-zzRYhrKkI3pkAYjdcLH2cMy3o2-2FT7nLRp_w4jIu-ZP4sBhM33369-aVQ). I am not asking you to do any analytics -- though I believe you should be able to follow the analytical work in this paper now. Instead, lets try to reproduce numerically some important findings.  We will work only in the linear regime, set up in section II of the paper, and we will work in the regime where the features and the parameter variables defined in the paper are all and the same (there's no random rotation and projection). We thus have a true (teacher) model as in Eqs. (1,2) with $f=1$ -- that is, there are $N_f$ \"features\" or \"predictors\". And the student has the same features and finds coefficients in front of them using standard liner regression, as in Eq. 6. One of the points of the paper is that the well-known phenomenon of overfitting when the number of features is as large as the number of data points $M$, is related to existence of zero eigenvalues of the $Z^\\top Z$ matrix in the denominator of Eq 6. However, we know that spectra of random covariance matrices when $N_f>M$ and $N_f<M$ look very similar, save for a bunch of delta functions at zero. The delta functions are very easy to disambiguate from properly regressed parameters as long as $N_f$ is not near $M$, when the spectrum continuously merges into zero.  If we can get rid of delta functions (which is what the ridge regression regularization does), the $N_f>M$ and $N_f<M$ should be similar, and there will be no overfitting for large $M$. So what I propose here is to explore this problem in a head-on fashion. Generate random $y$'s from random features. Keep $\\alpha=N_f/M$, fixed. Whiten the feature variables by calculating their principal components and perform regression *only* on the principal components with the corresponding eigenvalues away from zero. This is principal components regression. Having done the regression, evaluate the test error. My suspicion is that the test error will show a characteristic peak (double descent, as in decrease on both sides of the peak) form at $N_f=M$ as in fig 1b in the above paper. But, as is common, I may be wrong. Test it."
   ]
  },
  {
   "cell_type": "markdown",
   "id": "e56d88fe-6bec-4bc3-b124-0f7dca1663ef",
   "metadata": {},
   "source": [
    "First we see that we have "
   ]
  },
  {
   "cell_type": "code",
   "execution_count": 1,
   "id": "b6b9fc7e-5f9c-4f3b-83b8-6593c3869c77",
   "metadata": {},
   "outputs": [],
   "source": [
    "import matplotlib.pyplot as plt\n",
    "import numpy as np\n",
    "import numpy.matlib\n",
    "from numpy import linalg as LA\n",
    "\n",
    "from sklearn.decomposition import PCA\n",
    "\n",
    "np.random.seed(23)"
   ]
  },
  {
   "cell_type": "code",
   "execution_count": 2,
   "id": "c2c5d840-c970-4268-88c8-53d9b02e0717",
   "metadata": {},
   "outputs": [],
   "source": [
    "m = 100\n",
    "nf = np.array([10,20,50,100,200,500,1000])\n",
    "alp = nf/ m\n",
    "nTrials = 10\n",
    "\n",
    "lTe = np.zeros(nTrials)\n",
    "lAve = np.zeros(nf.size)\n",
    "\n",
    "for i in range(nf.size):            #Additionally loop over choose aspect ratio of matrices and loop\n",
    "    for trial in range(nTrials):     # loop for 10 times produce average L_test\n",
    "        A = np.matlib.rand(nf[i],1)\n",
    "        # Training Data\n",
    "        xTr = np.matlib.rand(m, nf[i])\n",
    "        eTr = 1e-15 * np.matlib.rand(m, 1)\n",
    "        # Testing Data\n",
    "        xTe = np.matlib.rand(m, nf[i])\n",
    "        eTe = 1e-15 * np.matlib.rand(m, 1)\n",
    "        \n",
    "        yTr = xTr * A + eTr\n",
    "        Ainf = LA.lstsq(xTr, yTr, rcond=1e-15)\n",
    "        PxTr, S, Vh = LA.svd(xTr, full_matrices=True)\n",
    "        if Ainf[2] == m:\n",
    "            PxTr = PxTr[0:m,:]\n",
    "        Binf = LA.lstsq(PxTr, yTr, rcond = 1e-15)\n",
    "        yTe = xTe * Ainf[0] \n",
    "        yest = Binf[0].T * xTe\n",
    "        lTe[trial] = LA.norm(yTe - yest)\n",
    "    lAve[i] = np.average(lTe)\n",
    "        \n",
    "        \n",
    "\n",
    "\n",
    "# y = xA + \\epislon, X = T x n, A = n x 1\n",
    "# look at PCA of X, y_est = PC*b  b vec, PC is SVec of X\n",
    "# min L = \\sum_i (y_i - y_est(x_i))^2\n",
    "\n",
    "# use estimated params on new data (new amtrix)\n",
    "\n",
    "# plot should be n/T vs. l_test \n",
    "\n",
    "# Generate T_train, T_test\n",
    "\n",
    "## Loop Generate A, generate x training and x_test, infer A_inferred B_inferred from x, PC(x) respectively. Calc L_test = sum(y(xtest) - y_est(x_test)^2\n",
    "\n"
   ]
  },
  {
   "cell_type": "markdown",
   "id": "70bd8fb9-d0ee-4715-a074-d5a44ee60d5a",
   "metadata": {},
   "source": [
    "I have struggled with this problem for weeks now. I really wanted to get it right because I feel so close, but no matter how I change the if condition to enact the principle component regression, I am still getting this plot. I know the idea is to truncate the left singular vectors when the problem is of lower rank then it should be, but for the life of me, I cannot get it. I know everything else is correct with the code as I have gone to Prof. Nemenman's office hours a few times about this problem alone, and it is very frsutrating to have worked on it for weeks and not seen the results you wanted to, which is the double descent. At some point, I have to turn in an incorrect solution to recieve credit. I am sorry it is not correct, and that it took weeks to finally give up and turn it in."
   ]
  },
  {
   "cell_type": "code",
   "execution_count": 3,
   "id": "f32614f1-a73e-4050-bd22-22a51c49741a",
   "metadata": {},
   "outputs": [
    {
     "data": {
      "text/plain": [
       "[<matplotlib.lines.Line2D at 0x143ac4790>]"
      ]
     },
     "execution_count": 3,
     "metadata": {},
     "output_type": "execute_result"
    },
    {
     "data": {
      "image/png": "[encoded data removed]",
      "text/plain": [
       "<Figure size 640x480 with 1 Axes>"
      ]
     },
     "metadata": {},
     "output_type": "display_data"
    }
   ],
   "source": [
    "# Plot\n",
    "plt.xlabel('α = $n_f$/m')\n",
    "plt.ylabel('Training Loss')\n",
    "plt.plot(alp, lAve)"
   ]
  },
  {
   "cell_type": "markdown",
   "id": "c46a6393-7db6-47c4-9864-b0f015d355f1",
   "metadata": {},
   "source": [
    "## 2. Problem 9.1.1: Variance as a function of time under DBM\n",
    "\n",
    "#### Consider the Dyson Brownian motion for a finite $N$ matrix:\\begin{align} \\text{d}\\lambda_i &= \\sqrt{\\frac{2}{N}} \\text{d}B_i + \\frac{1}{N}\\sum_{j=1, j\\neq i}^N \\frac{\\text{d}t}{\\lambda_i -\\lambda_j} \\end{align} and the function $F(\\{\\lambda_i\\})$ that computes the second moment: \\begin{align} F(\\{\\lambda_i\\}) &= \\frac{1}{N} \\sum_{i=1}^N \\lambda_i^2. \\end{align}\n",
    "\n",
    "### Write down the stochastic process for $F(\\{\\lambda_i\\})$  using the Itô vectorial formula (8.17). In the case at hand $F$ does not depend explicitly on time and $\\sigma_i^2 = 2/N$. You will need to use the following identity:\\begin{align} 2\\sum_{i,j=1, j\\neq i}^N \\frac{\\lambda_i}{\\lambda_i - \\lambda_j} = \\sum_{i,j=1, j\\neq i}^N \\frac{\\lambda_i- \\lambda_j}{\\lambda_i - \\lambda_j} &= N(N-1). \\end{align}\n",
    "\n",
    "First, we compute\n",
    "\\begin{align}\n",
    "\\frac{\\partial F}{\\partial \\lambda_i} &= \\frac{\\partial }{\\partial \\lambda_i}\\left(\\frac{1}{N} \\sum_{i=1}^N \\lambda_i^2 \\right)\\\\\n",
    "&= \\frac{1}{N} 2\\lambda_i\\\\\n",
    "\\frac{\\partial^2 F}{\\partial \\lambda_i \\partial \\lambda_j} &= \\frac{2}{N}\\delta_{ij} \\\\\n",
    "\\frac{\\partial F}{\\partial t} &= 0 \\quad \\text{ (by hint)}\n",
    "\\end{align}\n",
    "\n",
    "Plugging into the Itô vectorial formula (8.17), we see\n",
    "\\begin{align}\n",
    "\\text{d}F_t &= \\sum_{i=1}^N \\frac{\\partial F}{\\partial \\lambda_i} \\text{d}\\lambda_{i,t} + \\left[ \\frac{\\partial F}{\\partial t} + \\sum_{i,j=1}^N \\frac{C_{ij}(\\lambda_i,t)}{2}\\frac{\\partial^2 F}{\\partial \\lambda_i \\partial \\lambda_j}\\right]\\text{d}t\\\\\n",
    "&= \\sum_{i=1}^N \\frac{2}{N} \\lambda_i \\text{d}\\lambda_i + \\left[ \\sum_{i,j=1}^N \\frac{C_{ij}(\\lambda_i)}{2}\\frac{2}{N} \\delta_{ij}\\right]\\text{d}t\\\\\n",
    "&= \\sum_{i=1}^N \\frac{2}{N} \\lambda_i \\left(\\sqrt{\\frac{2}{N}} \\text{d}B_i + \\frac{1}{N}\\sum_{j=1, j\\neq i}^N \\frac{\\text{d}t}{\\lambda_i -\\lambda_j} \\right) + \\left[ \\sum_{i=1}^N \\frac{\\sigma_i^2}{N}\\right]\\text{d}t\n",
    "\\end{align}\n",
    "where we used the definition of $\\text{d}\\lambda_i$ and noticing that the only terms that will survive the $\\delta_{ij}$ are the $C_{ii}$ terms, which is just the diagonals of the co-variance matrix. This is easy to see that $C_{ii} = \\sigma_i^2$. Continuing on, aided by the identity that we were given in the problem statement,\n",
    "\n",
    "\\begin{align}\n",
    "\\text{d}F_t &= \\sum_{i=1}^N \\left(\\sqrt{\\frac{2}{N}} \\right)^3 \\lambda_i\\text{d}B_i +  \\frac{1}{N^2} \\sum_{i=1}^N \\sum_{j=1, j\\neq i}^N \\frac{2\\lambda_i\\text{d}t}{\\lambda_i -\\lambda_j} + \\left[ \\sum_{i=1}^N \\frac{\\sigma_i^2}{N}\\right]\\text{d}t\\\\\n",
    "&= \\sum_{i=1}^N \\left(\\sqrt{\\frac{2}{N}} \\right)^3 \\lambda_i\\text{d}B_i +  \\frac{1}{N^2} N(N-1) \\text{d}t+ \\left[ \\sum_{i=1}^N \\frac{2}{N^2}\\right]\\text{d}t\\\\\n",
    "&= \\sum_{i=1}^N \\left(\\sqrt{\\frac{2}{N}} \\right)^3 \\lambda_i\\text{d}B_i +  \\left[\\frac{(N-1)}{N}+ \\frac{2}{N}\\right]\\text{d}t\\\\\n",
    "\\text{d}F_t &= \\sum_{i=1}^N \\sigma_i^3 \\lambda_i\\text{d}B_i + \\frac{(N+1)}{N}\\text{d}t\n",
    "\\end{align}"
   ]
  },
  {
   "cell_type": "markdown",
   "id": "8239be5d-a357-4e6b-82de-88a0b4e5c260",
   "metadata": {},
   "source": [
    "### Take the expectation value of your equation and show that $F(t):= \\mathbb{E}[F(\\{\\lambda_i(t)\\})]$ follows \\begin{align} F(t) = F(0) + \\frac{N+1}{N}t.\\end{align} Do not assume that $N$ is large.\n",
    "\n",
    "Integrating over the stochastic process, we see\n",
    "\n",
    "\\begin{align}\n",
    "F_t &= \\int_0^t \\sum_{i=1}^N\\sigma_i^3\\lambda_i \\text{d}B_s + \\frac{N+1}{N} t. \n",
    "\\end{align}\n",
    "\n",
    "Following the work that is presented in 8.2.3, namely Eq (8.18), it is not hard to see that \n",
    "\\begin{align}\n",
    "F(t) &= F(0) + \\frac{N+1}{N}t\n",
    "\\end{align}"
   ]
  },
  {
   "cell_type": "markdown",
   "id": "30061d29-1804-4ecf-9f96-59b22b6ffa10",
   "metadata": {},
   "source": [
    "## 3. Problem 10.1.1: Taylor series for the R-transform\n",
    "#### Let $g(z)$ be the Stieltjes transform of a random matrix $\\mathbf{M}$: \\begin{align} g(z) = \\tau\\left((z\\mathbf{I} - \\mathbf{M})^{-1}\\right) &= \\int_{\\text{supp}\\{\\rho\\}}\\frac{\\rho(\\lambda)\\text{d}\\lambda}{z-\\lambda}. \\end{align} We saw that the power series of $g(z)$ around $z=\\infty$ is given by the moments of $\\mathbf{M} (m_n := \\tau(\\mathbf{M}^n)):$ \\begin{align}g(z) &= \\sum_{n=0}^\\infty \\frac{m_n}{z^{n+1}} \\text{ with } m_0\\equiv 1. \\end{align} Call $\\zeta(g)$ be the functional inverse of $g(z)$ which is well defined in the neighborhood of $g=0$. And define $R(g)$ as \\begin{align} R(g) &= \\zeta(g) - \\frac{1}{g}.\\end{align}\n",
    "\n",
    "### By writing the power series of $R(g)$ near zero, show that $R(g)$ is regular at zero and that $R(0) = m_1.$ Therefore the power series of $R(g)$ starts at $g^0$: \\begin{align} R(g) &= \\sum_{n=1}^\\infty \\kappa_ng^{n-1}. \\end{align}\n",
    "First observe that we can write it as \n",
    "\\begin{align}\n",
    "g(z)  &= \\sum_{k=0}^\\infty \\frac{m_k}{z^{k+1}},\\\\\n",
    "&= \\frac{1}{z} + \\sum_{k=1}^\\infty \\frac{m_k}{z^{z+1}},\n",
    "\\end{align}\n",
    "\n",
    "Then notice that we can take the definition of the $R$-transform and write it equivalently as \n",
    "\\begin{align}\n",
    "R(g) = \\zeta(g) - \\frac{1}{g} &\\iff g(z)R(g(z)) = g(z)z - 1\n",
    "\\end{align}\n",
    "by applying $g(z)$ on both sides, and remembering that $\\zeta(g)$ is the functional inverse of $g$ so $\\zeta(g(z)) = g(\\zeta(z)) = z$. Note to do this step, we implicitly assumed that $g(z)$ is finite. This is a reasonable assumption because we remember that $g(z)$ was defined around $z=\\infty$, so each term of $g(z)$, $m_n/z^{n+1}$ is rather small, so overall $g(z)$ is finite. In short, as $z\\to \\infty, g(z)\\to \\frac{1}{z}$ (since this is the leading term of the series). This fact implies $z \\to 1/g$ as $g\\to 0$. \n",
    "\n",
    "Now exploiting this equality, we see that \n",
    "\\begin{align}\n",
    "zg(z) - 1 = \\sum_{k=1}^\\infty \\frac{m_k}{z^k},\n",
    "\\end{align}\n",
    "just from manipulations of the power series for $g(z)$. Additionally, using the above analysis,\n",
    "\\begin{align}\n",
    "g(z)R(g(z)) &= \\sum_{i=1}^{\\infty} \\kappa_k \\left( \\frac{1}{z} + \\sum_{\\ell=1}^\\infty \\frac{m_\\ell}{z^{\\ell+1}}\\right)^k.\n",
    "\\end{align}.\n"
   ]
  },
  {
   "cell_type": "markdown",
   "id": "1f3a9720-1789-48a6-9d85-f8cc0c7fbbed",
   "metadata": {},
   "source": [
    "### Now assume that $m_1=\\kappa_1 = 0$ and compute $\\kappa_2, \\kappa_3$ and $\\kappa_4$ as a function of $m_2, m_3$, and $m_4$ in that case.\n",
    "\n",
    "Given the above framework, we simply have to equate the above sums and match powers of $1/z$ to get the desired relationships between the free cumulants and moments, $\\kappa_k$ and $m_k$, respectively. However, I want to exploit another more combinatoric argument between these two, which is \n",
    "\n",
    "\\begin{align}\n",
    "m_k = \\sum_{\\pi\\in \\text{NC}(n)} \\kappa_{\\pi_1}\\cdots\\kappa_{\\pi_{\\ell_\\pi}},\n",
    "\\end{align}\n",
    "where $\\text{NC}(n)$ are the noncrossing paths.\n",
    "\n",
    "##### Computing $m_1$\n",
    "We are told that $m_1=k_1=0$\n",
    "\n",
    "##### Computing $m_2$\n",
    "Notice there are only two paths in this, namely $\\{12\\}$ and $\\{1,2\\}$, where the concatination indicates a noncrossing path and the comma indicates separate partitions. This can be translated as\n",
    "\\begin{align}\n",
    "m_2 &= \\sum_{\\pi \\in \\text{NC}(2)} \\kappa\\\\\n",
    "&= \\kappa_2 + \\kappa_1^2\n",
    "\\end{align}\n",
    "Now rewriting in the context of $\\kappa_2$, we have\n",
    "\\begin{align}\n",
    "\\kappa_2 &= m_2 - \\kappa_1^2\\\\\n",
    "&= m_2 - m_1^2\\\\\n",
    "&= m_2\n",
    "\\end{align}\n",
    "\n",
    "##### Computing $m_3$\n",
    "All of the noncrossing partitions for 3 numbers are: $\\{123\\}, \\{12,3\\}, \\{1,23\\}, \\{13,2\\}$ and $\\{1,2,3\\}$, which means\n",
    "\\begin{align}\n",
    "m_3 &= \\kappa_3 + \\kappa_2\\kappa_1 + \\kappa_1\\kappa_2 + \\kappa_2\\kappa_1 +\\kappa_1^3\\\\\n",
    "\\kappa_3 &= m_3 - 3\\kappa_1\\kappa_2 -\\kappa_1^3\\\\\n",
    "&= m_3 - 3m_1(m_2 - m_1^2) - m_1^3\\\\\n",
    "&= m_3 - 3m_1m_2 + 2m_1^3\\\\\n",
    "&= m_3\n",
    "\\end{align}\n",
    "\n",
    "##### Computing $m_4$\n",
    "It is shorter to list the crossing partitionsw for 4 numbers, as the only configuration that is not in NC$(4)$ is $\\{13,24\\}$. This means\n",
    "\\begin{align}\n",
    "m_4 &= \\kappa_4 + 4\\kappa_3\\kappa_1 + 2\\kappa_2\\kappa_2 + 6\\kappa_2\\kappa_1^2 + \\kappa_1^4\\\\\n",
    "\\kappa_4 &= m_4 - 4\\left(m_3 - 3m_1m_2 + 2m_1^3\\right)m_1 - 2(m_2 - m_1^2)^2 - 6(m_2 - m_1^2)m_1 - m_1^4\\\\\n",
    "&=m_4 - 4m_1m_3 + 10 m_1^2m_2 - 2m_2^2 - 5m_1^4\\\\\n",
    "&= m_4 - 2m_2^2\n",
    "\\end{align}\n",
    "\n",
    "This is important to note that this is the first cumulant that hasn't just equalied the moment. We see that even with $m_1=\\kappa_1=0$, we cannot get rid of the $m_2^2$ term. To see if this is a result of the fact that 4 is the first composite number on our list, we extend this work to $m_5$ to see if we get additional terms of just the $\\kappa_5$ term. Since 5 is prime, this will indicate the relationship.\n",
    "\n",
    "##### Computing $m_5$\n",
    "After many careful computations, we do the above method to see that\n",
    "\\begin{align}\n",
    "m_5 &= \\kappa_5 + 5\\kappa_4\\kappa_1 + 5\\kappa_3\\kappa_2 + 10 \\kappa_3\\kappa_1^2 + \\kappa_1^5\\\\\n",
    "\\kappa_5 &= m_5 - 5m_4m_1 - m_3m_2+15 m_3m_1^2 + 15 m_2^1m_1 - 35m_2m_1^3 + 14m_1^5\\\\\n",
    "&= m_5 - 5m_3m_2.\n",
    "\\end{align}\n",
    "\n",
    "Since 5 is prime, and we do see a splitting that isn't annahilated with $m_1=\\kappa_1=0$, we just assume that the first few moments and cumulants  are equal just because all terms will require a first order part somewhere."
   ]
  },
  {
   "cell_type": "markdown",
   "id": "ee5d464f-4698-4c61-80d4-bba3d538a16c",
   "metadata": {},
   "source": [
    "## 4. Problem 11.2.1: Cumulants of a constant\n",
    "#### Show that a constant $\\alpha\\mathbf{I}$ has $\\kappa_1 = \\alpha$ and $\\kappa_n = 0$ for $n\\geq 2$. (Hint: compute $H_{\\alpha\\mathbf{I}}(k) = \\log\\left(\\tau\\left(e^{ik\\alpha\\mathbf{I}}\\right)\\right)$.)\n",
    "\n",
    "By Eq 11.1.3 \n",
    "\\begin{align}\n",
    "H_{\\alpha\\mathbf{I}} &:= \\sum_{n=1}^\\infty \\frac{\\kappa_n(\\alpha\\mathbf{I})}{n!}(ik)^n\\\\\n",
    "&= \\log \\tau(e^{ik\\alpha\\mathbf{I}})\n",
    "\\end{align}\n",
    "\n",
    "Now by Eq. 11.1.3\n",
    "\\begin{align}\n",
    "H_{\\alpha\\mathbf{I}} &= \\log \\left(\\sum_{\\ell=0}^\\infty \\frac{(ik)^\\ell}{\\ell!} \\tau\\left((\\alpha\\mathbf{I})^\\ell\\right)\\right)\\\\\n",
    "&= \\log \\left(\\sum_{\\ell=0}^\\infty \\frac{(ik)^\\ell}{\\ell!} \\frac{1}{N}\\mathbb{E}\\left(\\text{tr}\\left((\\alpha\\mathbf{I})^\\ell\\right)\\right)\\right)\\\\\n",
    "\\end{align}\n",
    "Recognizing that $\\text{tr}\\left((\\alpha\\mathbf{I})^\\ell\\right)$ will just be $N\\alpha$, and utilizing the Taylor Series of $e^x$, we see\n",
    "\\begin{align}\n",
    "H_{\\alpha\\mathbf{I}} &= \\log\\left(\\sum_{\\ell=0}^\\infty \\frac{\\left(ik\\alpha\\right)^\\ell}{\\ell!}\\right)\\\\\n",
    "&= \\log e^{ik\\alpha}\\\\\n",
    "&= ik\\alpha,\n",
    "\\end{align}\n",
    "\n",
    "but by defintion of $H_{\\alpha\\mathbf{I}}$, we see\n",
    "\\begin{align}\n",
    "H_{\\alpha\\mathbf{I}} &= ik\\alpha\\\\\n",
    "&= \\sum_{n=1}^\\infty \\frac{\\kappa_n(\\alpha\\mathbf{I})}{n!}(ik)^n\\\\\n",
    "&= \\kappa_1(\\alpha\\mathbf{I})ik + \\sum_{n=2}^\\infty \\frac{\\kappa_n(\\alpha\\mathbf{I})}{n!}(ik)^n.\n",
    "\\end{align}\n",
    "\n",
    "This clearly shows that $\\kappa_1(\\alpha\\mathbf{I}) = \\alpha$ and $\\kappa_n = 0, \\forall n\\geq 2$."
   ]
  }
 ],
 "metadata": {
  "kernelspec": {
   "display_name": "Python 3 (ipykernel)",
   "language": "python",
   "name": "python3"
  },
  "language_info": {
   "codemirror_mode": {
    "name": "ipython",
    "version": 3
   },
   "file_extension": ".py",
   "mimetype": "text/x-python",
   "name": "python",
   "nbconvert_exporter": "python",
   "pygments_lexer": "ipython3",
   "version": "3.11.7"
  }
 },
 "nbformat": 4,
 "nbformat_minor": 5
}
